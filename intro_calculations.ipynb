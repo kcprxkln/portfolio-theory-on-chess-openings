{
 "cells": [
  {
   "cell_type": "code",
   "execution_count": 3,
   "metadata": {},
   "outputs": [
    {
     "name": "stdout",
     "output_type": "stream",
     "text": [
      "Hello World!\n"
     ]
    }
   ],
   "source": [
    "print('Hello World!')\n",
    "import pandas as pd \n",
    "import numpy as np \n",
    "import matplotlib.pyplot as plt"
   ]
  },
  {
   "cell_type": "markdown",
   "metadata": {},
   "source": [
    "## Zysk Otwarcia"
   ]
  },
  {
   "cell_type": "markdown",
   "metadata": {},
   "source": [
    "_Zysk otwarcia_ mierzony jest średnią oceną pozycji zgodnie z silnikiem stockfish po X partii, gdzie X partii to taka liczba, która najlepiej opisuje stan gry po otwarciu. Możliwe jest wykorzystanie kilku momentów partii _X1, X2, X3..._ które mogą opisać sytuację, a następnie sprowadzenie obliczeń do konkretnego wykresu. _X_ -> Ocena pozycji, _Y_ -> Liczba partii z taką pozycją."
   ]
  },
  {
   "cell_type": "markdown",
   "metadata": {},
   "source": [
    "## Ryzyko Otwarcia"
   ]
  },
  {
   "cell_type": "markdown",
   "metadata": {},
   "source": [
    "_Ryzyko Otwarcia_ mierzone jest odchyleniem standardowym lub wariancją wyników danych opisanych powyżej."
   ]
  },
  {
   "cell_type": "markdown",
   "metadata": {},
   "source": [
    "## Sharpe Ratio"
   ]
  },
  {
   "cell_type": "markdown",
   "metadata": {},
   "source": [
    "W teorii portfela Markowitza celem jest znalezienie optymalnego portfela, który maksymalizuje stopę zwrotu przy danym poziomie ryzyka lub minimalizuje ryzyko przy danej stopie zwrotu. Proces ten polega na obliczaniu różnych kombinacji wag aktywów i wybraniu tej, która daje najlepszy stosunek stopa zwrotu / ryzyko (tzw. Sharpe Ratio)."
   ]
  },
  {
   "cell_type": "markdown",
   "metadata": {},
   "source": [
    "## Efektywna Granica Portfela"
   ]
  },
  {
   "cell_type": "markdown",
   "metadata": {},
   "source": [
    "https://freedium.cfd/https://towardsdatascience.com/efficient-frontier-in-python-detailed-tutorial-84a304f03e79\n",
    "\n",
    "Efektywna granica portfela to zbiór portfeli, które oferują najlepszy możliwy stosunek stopy zwrotu do ryzyka. Dla różnych poziomów ryzyka portfel na efektywnej granicy będzie miał najwyższą oczekiwaną stopę zwrotu, a dla różnych poziomów oczekiwanej stopy zwrotu będzie miał najmniejsze możliwe ryzyko."
   ]
  },
  {
   "cell_type": "markdown",
   "metadata": {},
   "source": []
  }
 ],
 "metadata": {
  "kernelspec": {
   "display_name": "myenv",
   "language": "python",
   "name": "python3"
  },
  "language_info": {
   "codemirror_mode": {
    "name": "ipython",
    "version": 3
   },
   "file_extension": ".py",
   "mimetype": "text/x-python",
   "name": "python",
   "nbconvert_exporter": "python",
   "pygments_lexer": "ipython3",
   "version": "3.11.2"
  }
 },
 "nbformat": 4,
 "nbformat_minor": 2
}
